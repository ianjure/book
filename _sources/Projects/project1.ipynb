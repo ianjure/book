{
 "cells": [
  {
   "cell_type": "markdown",
   "id": "94b9e5d5",
   "metadata": {},
   "source": [
    "# **Project Task 1**"
   ]
  }
 ],
 "metadata": {
  "language_info": {
   "name": "python"
  }
 },
 "nbformat": 4,
 "nbformat_minor": 5
}
