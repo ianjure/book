{
 "cells": [
  {
   "cell_type": "markdown",
   "id": "90a0fb71",
   "metadata": {},
   "source": [
    "# **Lecture Task 1**\n",
    "\n",
    "---\n",
    "\n",
    "<br>\n",
    "\n",
    "**Machine Learning: Living in the Age of AI | A WIRED Film Reaction Paper**\n",
    "\n",
    "<iframe width=\"560\" height=\"315\" src=\"https://www.youtube.com/embed/ZJixNvx9BAc?si=KzcatTKat2W78HPC\" title=\"YouTube video player\" frameborder=\"0\" allow=\"accelerometer; autoplay; clipboard-write; encrypted-media; gyroscope; picture-in-picture; web-share\" referrerpolicy=\"strict-origin-when-cross-origin\" allowfullscreen></iframe>\n",
    "\n",
    "The WIRED documentary Machine Learning: Living in the Age of AI shows how\n",
    "artificial intelligence is transforming society, not just as a tool for efficiency but as a force that\n",
    "reshapes our daily lives. AI has the potential to enhance humanity by automating repetitive\n",
    "tasks, freeing up time, and empowering those who cannot do certain activities, like driving. In\n",
    "fields such as healthcare, agriculture, and logistics, AI already improves diagnosis, food\n",
    "production, and transportation, proving its value in solving real problems.\n",
    "\n",
    "Yet the future of AI is uncertain. It will replace some jobs, but also create new ones.\n",
    "The challenge lies in how people adapt, whether they embrace change and learn new skills\n",
    "or risk being left behind. A key driver of AI’s rapid growth is its democratization, making tools\n",
    "accessible not only to big companies but also to curious individuals who innovate and create\n",
    "solutions for society.\n",
    "\n",
    "At its foundation, AI is modeled after the human brain through neural networks,\n",
    "enabling breakthroughs like self-driving cars and voice assistants. However, this progress\n",
    "also brings risks. Privacy is a major concern, as AI systems rely on vast amounts of personal\n",
    "data. While technology can enhance our lives, it also threatens freedom if misused for\n",
    "surveillance or control.\n",
    "\n",
    "Another important point the film highlights is the ethical responsibility tied to AI.\n",
    "Technology alone cannot guarantee positive outcomes; it depends on the intentions of those\n",
    "who design and use it. If guided by greed or harmful motives, AI could deepen inequality or\n",
    "cause harm. But if developed with fairness and empathy, it could become one of the greatest\n",
    "tools for human progress.\n",
    "\n",
    "To live harmoniously with AI, optimism must be balanced with responsibility.\n",
    "Governments and institutions must create laws that encourage innovation while protecting\n",
    "human rights. AI is a double-edged sword, it can bring prosperity and progress, but only if\n",
    "guided by ethical use.\n",
    "\n",
    "The film leaves us with an important reminder: AI’s impact depends on how we\n",
    "choose to use it. It is not just a matter of what AI can do, but what it should do. We cannot\n",
    "predict the future, but we can prepare for it by staying adaptable, ethical, and focused on\n",
    "keeping humans at the center of progress."
   ]
  }
 ],
 "metadata": {
  "language_info": {
   "name": "python"
  }
 },
 "nbformat": 4,
 "nbformat_minor": 5
}
